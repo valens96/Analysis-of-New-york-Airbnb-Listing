{
 "cells": [
  {
   "cell_type": "code",
   "execution_count": 1,
   "id": "880cd263",
   "metadata": {},
   "outputs": [],
   "source": [
    "import pandas as pd\n",
    "import numpy as np\n",
    "import seaborn as sns\n",
    "import matplotlib\n",
    "import matplotlib.pyplot as plt\n",
    "import os\n",
    "import sklearn\n",
    "from sklearn.model_selection import train_test_split \n",
    "from sklearn.linear_model import LinearRegression\n",
    "from sklearn.metrics import mean_squared_error, r2_score"
   ]
  },
  {
   "cell_type": "code",
   "execution_count": 2,
   "id": "38f74e87",
   "metadata": {},
   "outputs": [],
   "source": [
    "# This option ensures that the graphs you create are displayed within the notebook without the need to \"call\" them specifically.\n",
    "\n",
    "%matplotlib inline"
   ]
  },
  {
   "cell_type": "code",
   "execution_count": 3,
   "id": "b32c8fc2",
   "metadata": {},
   "outputs": [],
   "source": [
    "path = r'C:\\Users\\Valens\\Documents\\Python Anaconda\\New York City Airbnb Open Data analysis'"
   ]
  },
  {
   "cell_type": "code",
   "execution_count": 4,
   "id": "de6ccd52",
   "metadata": {},
   "outputs": [],
   "source": [
    "df = pd.read_pickle(os.path.join(path, '02 Data','Prepared Data', 'AB_NYC_2019_CLEAN.pkl'))"
   ]
  },
  {
   "cell_type": "code",
   "execution_count": 5,
   "id": "58518621",
   "metadata": {},
   "outputs": [
    {
     "data": {
      "text/html": [
       "<div>\n",
       "<style scoped>\n",
       "    .dataframe tbody tr th:only-of-type {\n",
       "        vertical-align: middle;\n",
       "    }\n",
       "\n",
       "    .dataframe tbody tr th {\n",
       "        vertical-align: top;\n",
       "    }\n",
       "\n",
       "    .dataframe thead th {\n",
       "        text-align: right;\n",
       "    }\n",
       "</style>\n",
       "<table border=\"1\" class=\"dataframe\">\n",
       "  <thead>\n",
       "    <tr style=\"text-align: right;\">\n",
       "      <th></th>\n",
       "      <th>id</th>\n",
       "      <th>name</th>\n",
       "      <th>host_id</th>\n",
       "      <th>host_name</th>\n",
       "      <th>neighbourhood_group</th>\n",
       "      <th>neighbourhood</th>\n",
       "      <th>latitude</th>\n",
       "      <th>longitude</th>\n",
       "      <th>room_type</th>\n",
       "      <th>price</th>\n",
       "      <th>minimum_nights</th>\n",
       "      <th>number_of_reviews</th>\n",
       "      <th>last_review</th>\n",
       "      <th>reviews_per_month</th>\n",
       "      <th>calculated_host_listings_count</th>\n",
       "      <th>availability_365</th>\n",
       "    </tr>\n",
       "  </thead>\n",
       "  <tbody>\n",
       "    <tr>\n",
       "      <th>0</th>\n",
       "      <td>2539</td>\n",
       "      <td>Clean &amp; quiet apt home by the park</td>\n",
       "      <td>2539</td>\n",
       "      <td>John</td>\n",
       "      <td>Brooklyn</td>\n",
       "      <td>Kensington</td>\n",
       "      <td>40.64749</td>\n",
       "      <td>-73.97237</td>\n",
       "      <td>Private room</td>\n",
       "      <td>149.0</td>\n",
       "      <td>1</td>\n",
       "      <td>9</td>\n",
       "      <td>2018-10-19 00:00:00.000000000</td>\n",
       "      <td>0.21</td>\n",
       "      <td>6</td>\n",
       "      <td>365</td>\n",
       "    </tr>\n",
       "    <tr>\n",
       "      <th>1</th>\n",
       "      <td>2595</td>\n",
       "      <td>Skylit Midtown Castle</td>\n",
       "      <td>2595</td>\n",
       "      <td>Jennifer</td>\n",
       "      <td>Manhattan</td>\n",
       "      <td>Midtown</td>\n",
       "      <td>40.75362</td>\n",
       "      <td>-73.98377</td>\n",
       "      <td>Entire home/apt</td>\n",
       "      <td>225.0</td>\n",
       "      <td>1</td>\n",
       "      <td>45</td>\n",
       "      <td>2019-05-21 00:00:00.000000000</td>\n",
       "      <td>0.38</td>\n",
       "      <td>2</td>\n",
       "      <td>355</td>\n",
       "    </tr>\n",
       "    <tr>\n",
       "      <th>2</th>\n",
       "      <td>3647</td>\n",
       "      <td>THE VILLAGE OF HARLEM....NEW YORK !</td>\n",
       "      <td>3647</td>\n",
       "      <td>Elisabeth</td>\n",
       "      <td>Manhattan</td>\n",
       "      <td>Harlem</td>\n",
       "      <td>40.80902</td>\n",
       "      <td>-73.94190</td>\n",
       "      <td>Private room</td>\n",
       "      <td>150.0</td>\n",
       "      <td>3</td>\n",
       "      <td>0</td>\n",
       "      <td>2018-10-04 01:47:23.910099456</td>\n",
       "      <td>0.00</td>\n",
       "      <td>1</td>\n",
       "      <td>365</td>\n",
       "    </tr>\n",
       "    <tr>\n",
       "      <th>3</th>\n",
       "      <td>3831</td>\n",
       "      <td>Cozy Entire Floor of Brownstone</td>\n",
       "      <td>3831</td>\n",
       "      <td>LisaRoxanne</td>\n",
       "      <td>Brooklyn</td>\n",
       "      <td>Clinton Hill</td>\n",
       "      <td>40.68514</td>\n",
       "      <td>-73.95976</td>\n",
       "      <td>Entire home/apt</td>\n",
       "      <td>89.0</td>\n",
       "      <td>1</td>\n",
       "      <td>270</td>\n",
       "      <td>2019-07-05 00:00:00.000000000</td>\n",
       "      <td>4.64</td>\n",
       "      <td>1</td>\n",
       "      <td>194</td>\n",
       "    </tr>\n",
       "    <tr>\n",
       "      <th>4</th>\n",
       "      <td>5022</td>\n",
       "      <td>Entire Apt: Spacious Studio/Loft by central park</td>\n",
       "      <td>5022</td>\n",
       "      <td>Laura</td>\n",
       "      <td>Manhattan</td>\n",
       "      <td>East Harlem</td>\n",
       "      <td>40.79851</td>\n",
       "      <td>-73.94399</td>\n",
       "      <td>Entire home/apt</td>\n",
       "      <td>80.0</td>\n",
       "      <td>10</td>\n",
       "      <td>9</td>\n",
       "      <td>2018-11-19 00:00:00.000000000</td>\n",
       "      <td>0.10</td>\n",
       "      <td>1</td>\n",
       "      <td>0</td>\n",
       "    </tr>\n",
       "  </tbody>\n",
       "</table>\n",
       "</div>"
      ],
      "text/plain": [
       "     id                                              name host_id  \\\n",
       "0  2539                Clean & quiet apt home by the park    2539   \n",
       "1  2595                             Skylit Midtown Castle    2595   \n",
       "2  3647               THE VILLAGE OF HARLEM....NEW YORK !    3647   \n",
       "3  3831                   Cozy Entire Floor of Brownstone    3831   \n",
       "4  5022  Entire Apt: Spacious Studio/Loft by central park    5022   \n",
       "\n",
       "     host_name neighbourhood_group neighbourhood  latitude  longitude  \\\n",
       "0         John            Brooklyn    Kensington  40.64749  -73.97237   \n",
       "1     Jennifer           Manhattan       Midtown  40.75362  -73.98377   \n",
       "2    Elisabeth           Manhattan        Harlem  40.80902  -73.94190   \n",
       "3  LisaRoxanne            Brooklyn  Clinton Hill  40.68514  -73.95976   \n",
       "4        Laura           Manhattan   East Harlem  40.79851  -73.94399   \n",
       "\n",
       "         room_type  price  minimum_nights  number_of_reviews  \\\n",
       "0     Private room  149.0               1                  9   \n",
       "1  Entire home/apt  225.0               1                 45   \n",
       "2     Private room  150.0               3                  0   \n",
       "3  Entire home/apt   89.0               1                270   \n",
       "4  Entire home/apt   80.0              10                  9   \n",
       "\n",
       "                    last_review  reviews_per_month  \\\n",
       "0 2018-10-19 00:00:00.000000000               0.21   \n",
       "1 2019-05-21 00:00:00.000000000               0.38   \n",
       "2 2018-10-04 01:47:23.910099456               0.00   \n",
       "3 2019-07-05 00:00:00.000000000               4.64   \n",
       "4 2018-11-19 00:00:00.000000000               0.10   \n",
       "\n",
       "   calculated_host_listings_count  availability_365  \n",
       "0                               6               365  \n",
       "1                               2               355  \n",
       "2                               1               365  \n",
       "3                               1               194  \n",
       "4                               1                 0  "
      ]
     },
     "execution_count": 5,
     "metadata": {},
     "output_type": "execute_result"
    }
   ],
   "source": [
    "df.head()"
   ]
  },
  {
   "cell_type": "markdown",
   "id": "761b5304",
   "metadata": {},
   "source": [
    "### Data Cleaning"
   ]
  },
  {
   "cell_type": "code",
   "execution_count": 6,
   "id": "ce403d8d",
   "metadata": {},
   "outputs": [
    {
     "data": {
      "text/plain": [
       "(48895, 16)"
      ]
     },
     "execution_count": 6,
     "metadata": {},
     "output_type": "execute_result"
    }
   ],
   "source": [
    "df.shape"
   ]
  },
  {
   "cell_type": "markdown",
   "id": "552d7ed9",
   "metadata": {},
   "source": [
    "### Missing Values"
   ]
  },
  {
   "cell_type": "code",
   "execution_count": 7,
   "id": "a1c2dded",
   "metadata": {},
   "outputs": [
    {
     "data": {
      "text/plain": [
       "id                                0\n",
       "name                              0\n",
       "host_id                           0\n",
       "host_name                         0\n",
       "neighbourhood_group               0\n",
       "neighbourhood                     0\n",
       "latitude                          0\n",
       "longitude                         0\n",
       "room_type                         0\n",
       "price                             0\n",
       "minimum_nights                    0\n",
       "number_of_reviews                 0\n",
       "last_review                       0\n",
       "reviews_per_month                 0\n",
       "calculated_host_listings_count    0\n",
       "availability_365                  0\n",
       "dtype: int64"
      ]
     },
     "execution_count": 7,
     "metadata": {},
     "output_type": "execute_result"
    }
   ],
   "source": [
    "# Check for missing values\n",
    "\n",
    "df.isnull().sum()"
   ]
  },
  {
   "cell_type": "markdown",
   "id": "aa057533",
   "metadata": {},
   "source": [
    "### Duplicates Check"
   ]
  },
  {
   "cell_type": "code",
   "execution_count": 8,
   "id": "25bd7541",
   "metadata": {},
   "outputs": [],
   "source": [
    "dups = df.duplicated()"
   ]
  },
  {
   "cell_type": "code",
   "execution_count": 9,
   "id": "b066a86d",
   "metadata": {},
   "outputs": [
    {
     "data": {
      "text/plain": [
       "(0, 16)"
      ]
     },
     "execution_count": 9,
     "metadata": {},
     "output_type": "execute_result"
    }
   ],
   "source": [
    "df[dups].shape"
   ]
  },
  {
   "cell_type": "markdown",
   "id": "69bdccb0",
   "metadata": {},
   "source": [
    "### Extreme values check"
   ]
  },
  {
   "cell_type": "code",
   "execution_count": 10,
   "id": "2f41df33",
   "metadata": {},
   "outputs": [
    {
     "name": "stderr",
     "output_type": "stream",
     "text": [
      "D:\\Anaconda3\\lib\\site-packages\\seaborn\\distributions.py:2557: FutureWarning: `distplot` is a deprecated function and will be removed in a future version. Please adapt your code to use either `displot` (a figure-level function with similar flexibility) or `histplot` (an axes-level function for histograms).\n",
      "  warnings.warn(msg, FutureWarning)\n"
     ]
    },
    {
     "data": {
      "text/plain": [
       "<AxesSubplot:xlabel='price', ylabel='Density'>"
      ]
     },
     "execution_count": 10,
     "metadata": {},
     "output_type": "execute_result"
    },
    {
     "data": {
      "image/png": "[encoded data removed]",
      "text/plain": [
       "<Figure size 432x288 with 1 Axes>"
      ]
     },
     "metadata": {
      "needs_background": "light"
     },
     "output_type": "display_data"
    }
   ],
   "source": [
    "sns.distplot(df['price'], bins=200) # Shows extreme values\n",
    "\n"
   ]
  },
  {
   "cell_type": "code",
   "execution_count": 11,
   "id": "6aca510b",
   "metadata": {},
   "outputs": [],
   "source": [
    "df = df[df['price']<1500]\n",
    "# The main reason to pick this number is because the price of an apartment beyond this number might result an inaccuracy of the analysis. $1500 is a good number because this is the price before the number become outlier."
   ]
  },
  {
   "cell_type": "code",
   "execution_count": 12,
   "id": "e4be3b13",
   "metadata": {},
   "outputs": [
    {
     "name": "stderr",
     "output_type": "stream",
     "text": [
      "D:\\Anaconda3\\lib\\site-packages\\seaborn\\distributions.py:2557: FutureWarning: `distplot` is a deprecated function and will be removed in a future version. Please adapt your code to use either `displot` (a figure-level function with similar flexibility) or `histplot` (an axes-level function for histograms).\n",
      "  warnings.warn(msg, FutureWarning)\n"
     ]
    },
    {
     "data": {
      "text/plain": [
       "<AxesSubplot:xlabel='price', ylabel='Density'>"
      ]
     },
     "execution_count": 12,
     "metadata": {},
     "output_type": "execute_result"
    },
    {
     "data": {
      "image/png": "[encoded data removed]",
      "text/plain": [
       "<Figure size 432x288 with 1 Axes>"
      ]
     },
     "metadata": {
      "needs_background": "light"
     },
     "output_type": "display_data"
    }
   ],
   "source": [
    "sns.distplot(df['price'], bins=200) # Shows extreme values\n",
    "\n"
   ]
  },
  {
   "cell_type": "code",
   "execution_count": 13,
   "id": "bf0785ed",
   "metadata": {},
   "outputs": [
    {
     "data": {
      "text/plain": [
       "142.93874261352352"
      ]
     },
     "execution_count": 13,
     "metadata": {},
     "output_type": "execute_result"
    }
   ],
   "source": [
    "df['price'].mean()"
   ]
  },
  {
   "cell_type": "code",
   "execution_count": 14,
   "id": "abb5b4b6",
   "metadata": {},
   "outputs": [
    {
     "data": {
      "text/plain": [
       "105.0"
      ]
     },
     "execution_count": 14,
     "metadata": {},
     "output_type": "execute_result"
    }
   ],
   "source": [
    "df['price'].median()"
   ]
  },
  {
   "cell_type": "code",
   "execution_count": 15,
   "id": "0f379064",
   "metadata": {},
   "outputs": [
    {
     "data": {
      "text/plain": [
       "1497.0"
      ]
     },
     "execution_count": 15,
     "metadata": {},
     "output_type": "execute_result"
    }
   ],
   "source": [
    "df['price'].max()"
   ]
  },
  {
   "cell_type": "code",
   "execution_count": 16,
   "id": "8a686906",
   "metadata": {},
   "outputs": [
    {
     "data": {
      "text/plain": [
       "10.0"
      ]
     },
     "execution_count": 16,
     "metadata": {},
     "output_type": "execute_result"
    }
   ],
   "source": [
    "df['price'].min()"
   ]
  },
  {
   "cell_type": "code",
   "execution_count": 17,
   "id": "f62d1e5d",
   "metadata": {},
   "outputs": [
    {
     "data": {
      "text/plain": [
       "<AxesSubplot:xlabel='number_of_reviews', ylabel='Count'>"
      ]
     },
     "execution_count": 17,
     "metadata": {},
     "output_type": "execute_result"
    },
    {
     "data": {
      "image/png": "[encoded data removed]",
      "text/plain": [
       "<Figure size 432x288 with 1 Axes>"
      ]
     },
     "metadata": {
      "needs_background": "light"
     },
     "output_type": "display_data"
    }
   ],
   "source": [
    "sns.histplot(df['number_of_reviews'], bins=5, kde = True) # shows extreme values for 'number_of_reviews'"
   ]
  },
  {
   "cell_type": "code",
   "execution_count": 18,
   "id": "02e8cce0",
   "metadata": {},
   "outputs": [
    {
     "data": {
      "text/html": [
       "<div>\n",
       "<style scoped>\n",
       "    .dataframe tbody tr th:only-of-type {\n",
       "        vertical-align: middle;\n",
       "    }\n",
       "\n",
       "    .dataframe tbody tr th {\n",
       "        vertical-align: top;\n",
       "    }\n",
       "\n",
       "    .dataframe thead th {\n",
       "        text-align: right;\n",
       "    }\n",
       "</style>\n",
       "<table border=\"1\" class=\"dataframe\">\n",
       "  <thead>\n",
       "    <tr style=\"text-align: right;\">\n",
       "      <th></th>\n",
       "      <th>id</th>\n",
       "      <th>name</th>\n",
       "      <th>host_id</th>\n",
       "      <th>host_name</th>\n",
       "      <th>neighbourhood_group</th>\n",
       "      <th>neighbourhood</th>\n",
       "      <th>latitude</th>\n",
       "      <th>longitude</th>\n",
       "      <th>room_type</th>\n",
       "      <th>price</th>\n",
       "      <th>minimum_nights</th>\n",
       "      <th>number_of_reviews</th>\n",
       "      <th>last_review</th>\n",
       "      <th>reviews_per_month</th>\n",
       "      <th>calculated_host_listings_count</th>\n",
       "      <th>availability_365</th>\n",
       "    </tr>\n",
       "  </thead>\n",
       "  <tbody>\n",
       "    <tr>\n",
       "      <th>3</th>\n",
       "      <td>3831</td>\n",
       "      <td>Cozy Entire Floor of Brownstone</td>\n",
       "      <td>3831</td>\n",
       "      <td>LisaRoxanne</td>\n",
       "      <td>Brooklyn</td>\n",
       "      <td>Clinton Hill</td>\n",
       "      <td>40.68514</td>\n",
       "      <td>-73.95976</td>\n",
       "      <td>Entire home/apt</td>\n",
       "      <td>89.0</td>\n",
       "      <td>1</td>\n",
       "      <td>270</td>\n",
       "      <td>2019-07-05</td>\n",
       "      <td>4.64</td>\n",
       "      <td>1</td>\n",
       "      <td>194</td>\n",
       "    </tr>\n",
       "    <tr>\n",
       "      <th>7</th>\n",
       "      <td>5178</td>\n",
       "      <td>Large Furnished Room Near B'way</td>\n",
       "      <td>5178</td>\n",
       "      <td>Shunichi</td>\n",
       "      <td>Manhattan</td>\n",
       "      <td>Hell's Kitchen</td>\n",
       "      <td>40.76489</td>\n",
       "      <td>-73.98493</td>\n",
       "      <td>Private room</td>\n",
       "      <td>79.0</td>\n",
       "      <td>2</td>\n",
       "      <td>430</td>\n",
       "      <td>2019-06-24</td>\n",
       "      <td>3.47</td>\n",
       "      <td>1</td>\n",
       "      <td>220</td>\n",
       "    </tr>\n",
       "    <tr>\n",
       "      <th>17</th>\n",
       "      <td>7322</td>\n",
       "      <td>Chelsea Perfect</td>\n",
       "      <td>7322</td>\n",
       "      <td>Doti</td>\n",
       "      <td>Manhattan</td>\n",
       "      <td>Chelsea</td>\n",
       "      <td>40.74192</td>\n",
       "      <td>-73.99501</td>\n",
       "      <td>Private room</td>\n",
       "      <td>140.0</td>\n",
       "      <td>1</td>\n",
       "      <td>260</td>\n",
       "      <td>2019-07-01</td>\n",
       "      <td>2.12</td>\n",
       "      <td>1</td>\n",
       "      <td>12</td>\n",
       "    </tr>\n",
       "    <tr>\n",
       "      <th>33</th>\n",
       "      <td>9783</td>\n",
       "      <td>back room/bunk beds</td>\n",
       "      <td>9783</td>\n",
       "      <td>Ssameer Or Trip</td>\n",
       "      <td>Manhattan</td>\n",
       "      <td>Harlem</td>\n",
       "      <td>40.82130</td>\n",
       "      <td>-73.95318</td>\n",
       "      <td>Private room</td>\n",
       "      <td>50.0</td>\n",
       "      <td>3</td>\n",
       "      <td>273</td>\n",
       "      <td>2019-07-01</td>\n",
       "      <td>2.37</td>\n",
       "      <td>3</td>\n",
       "      <td>359</td>\n",
       "    </tr>\n",
       "    <tr>\n",
       "      <th>53</th>\n",
       "      <td>14314</td>\n",
       "      <td>Greenpoint Place...Has It All!</td>\n",
       "      <td>14314</td>\n",
       "      <td>Jeanne</td>\n",
       "      <td>Brooklyn</td>\n",
       "      <td>Greenpoint</td>\n",
       "      <td>40.73506</td>\n",
       "      <td>-73.95392</td>\n",
       "      <td>Entire home/apt</td>\n",
       "      <td>144.0</td>\n",
       "      <td>2</td>\n",
       "      <td>328</td>\n",
       "      <td>2019-06-29</td>\n",
       "      <td>2.82</td>\n",
       "      <td>1</td>\n",
       "      <td>234</td>\n",
       "    </tr>\n",
       "    <tr>\n",
       "      <th>...</th>\n",
       "      <td>...</td>\n",
       "      <td>...</td>\n",
       "      <td>...</td>\n",
       "      <td>...</td>\n",
       "      <td>...</td>\n",
       "      <td>...</td>\n",
       "      <td>...</td>\n",
       "      <td>...</td>\n",
       "      <td>...</td>\n",
       "      <td>...</td>\n",
       "      <td>...</td>\n",
       "      <td>...</td>\n",
       "      <td>...</td>\n",
       "      <td>...</td>\n",
       "      <td>...</td>\n",
       "      <td>...</td>\n",
       "    </tr>\n",
       "    <tr>\n",
       "      <th>26977</th>\n",
       "      <td>21366188</td>\n",
       "      <td>Studio apartment near JFK airport /Free parking</td>\n",
       "      <td>21366188</td>\n",
       "      <td>Anabell</td>\n",
       "      <td>Queens</td>\n",
       "      <td>Jamaica</td>\n",
       "      <td>40.66875</td>\n",
       "      <td>-73.78506</td>\n",
       "      <td>Entire home/apt</td>\n",
       "      <td>96.0</td>\n",
       "      <td>1</td>\n",
       "      <td>259</td>\n",
       "      <td>2019-07-07</td>\n",
       "      <td>12.99</td>\n",
       "      <td>1</td>\n",
       "      <td>307</td>\n",
       "    </tr>\n",
       "    <tr>\n",
       "      <th>27287</th>\n",
       "      <td>21550302</td>\n",
       "      <td>JFK Comfort.5 Mins from JFK Private Bedroom &amp; ...</td>\n",
       "      <td>21550302</td>\n",
       "      <td>Nalicia</td>\n",
       "      <td>Queens</td>\n",
       "      <td>Springfield Gardens</td>\n",
       "      <td>40.66110</td>\n",
       "      <td>-73.76830</td>\n",
       "      <td>Private room</td>\n",
       "      <td>80.0</td>\n",
       "      <td>1</td>\n",
       "      <td>403</td>\n",
       "      <td>2019-07-06</td>\n",
       "      <td>19.75</td>\n",
       "      <td>3</td>\n",
       "      <td>26</td>\n",
       "    </tr>\n",
       "    <tr>\n",
       "      <th>27369</th>\n",
       "      <td>21593310</td>\n",
       "      <td>STEPS TO LGA, near CITIFIELD, JFK MANHATTAN(RM...</td>\n",
       "      <td>21593310</td>\n",
       "      <td>Asad</td>\n",
       "      <td>Queens</td>\n",
       "      <td>East Elmhurst</td>\n",
       "      <td>40.77046</td>\n",
       "      <td>-73.87336</td>\n",
       "      <td>Private room</td>\n",
       "      <td>60.0</td>\n",
       "      <td>1</td>\n",
       "      <td>257</td>\n",
       "      <td>2019-07-06</td>\n",
       "      <td>12.54</td>\n",
       "      <td>6</td>\n",
       "      <td>351</td>\n",
       "    </tr>\n",
       "    <tr>\n",
       "      <th>28651</th>\n",
       "      <td>22176831</td>\n",
       "      <td>JFK 2 Comfort 5 Mins from JFK Private Bedroom</td>\n",
       "      <td>22176831</td>\n",
       "      <td>Nalicia</td>\n",
       "      <td>Queens</td>\n",
       "      <td>Springfield Gardens</td>\n",
       "      <td>40.66158</td>\n",
       "      <td>-73.77050</td>\n",
       "      <td>Private room</td>\n",
       "      <td>50.0</td>\n",
       "      <td>1</td>\n",
       "      <td>341</td>\n",
       "      <td>2019-07-08</td>\n",
       "      <td>17.82</td>\n",
       "      <td>3</td>\n",
       "      <td>25</td>\n",
       "    </tr>\n",
       "    <tr>\n",
       "      <th>29628</th>\n",
       "      <td>22750161</td>\n",
       "      <td>JFK 3 Comfort 5 Mins from JFK Private Bedroom</td>\n",
       "      <td>22750161</td>\n",
       "      <td>Nalicia</td>\n",
       "      <td>Queens</td>\n",
       "      <td>Springfield Gardens</td>\n",
       "      <td>40.66298</td>\n",
       "      <td>-73.77000</td>\n",
       "      <td>Private room</td>\n",
       "      <td>50.0</td>\n",
       "      <td>1</td>\n",
       "      <td>302</td>\n",
       "      <td>2019-07-06</td>\n",
       "      <td>16.81</td>\n",
       "      <td>3</td>\n",
       "      <td>26</td>\n",
       "    </tr>\n",
       "  </tbody>\n",
       "</table>\n",
       "<p>265 rows × 16 columns</p>\n",
       "</div>"
      ],
      "text/plain": [
       "             id                                               name   host_id  \\\n",
       "3          3831                    Cozy Entire Floor of Brownstone      3831   \n",
       "7          5178                   Large Furnished Room Near B'way       5178   \n",
       "17         7322                                    Chelsea Perfect      7322   \n",
       "33         9783                                back room/bunk beds      9783   \n",
       "53        14314                    Greenpoint Place...Has It All!      14314   \n",
       "...         ...                                                ...       ...   \n",
       "26977  21366188    Studio apartment near JFK airport /Free parking  21366188   \n",
       "27287  21550302  JFK Comfort.5 Mins from JFK Private Bedroom & ...  21550302   \n",
       "27369  21593310  STEPS TO LGA, near CITIFIELD, JFK MANHATTAN(RM...  21593310   \n",
       "28651  22176831      JFK 2 Comfort 5 Mins from JFK Private Bedroom  22176831   \n",
       "29628  22750161      JFK 3 Comfort 5 Mins from JFK Private Bedroom  22750161   \n",
       "\n",
       "             host_name neighbourhood_group        neighbourhood  latitude  \\\n",
       "3          LisaRoxanne            Brooklyn         Clinton Hill  40.68514   \n",
       "7             Shunichi           Manhattan       Hell's Kitchen  40.76489   \n",
       "17                Doti           Manhattan              Chelsea  40.74192   \n",
       "33     Ssameer Or Trip           Manhattan               Harlem  40.82130   \n",
       "53              Jeanne            Brooklyn           Greenpoint  40.73506   \n",
       "...                ...                 ...                  ...       ...   \n",
       "26977          Anabell              Queens              Jamaica  40.66875   \n",
       "27287          Nalicia              Queens  Springfield Gardens  40.66110   \n",
       "27369             Asad              Queens        East Elmhurst  40.77046   \n",
       "28651          Nalicia              Queens  Springfield Gardens  40.66158   \n",
       "29628          Nalicia              Queens  Springfield Gardens  40.66298   \n",
       "\n",
       "       longitude        room_type  price  minimum_nights  number_of_reviews  \\\n",
       "3      -73.95976  Entire home/apt   89.0               1                270   \n",
       "7      -73.98493     Private room   79.0               2                430   \n",
       "17     -73.99501     Private room  140.0               1                260   \n",
       "33     -73.95318     Private room   50.0               3                273   \n",
       "53     -73.95392  Entire home/apt  144.0               2                328   \n",
       "...          ...              ...    ...             ...                ...   \n",
       "26977  -73.78506  Entire home/apt   96.0               1                259   \n",
       "27287  -73.76830     Private room   80.0               1                403   \n",
       "27369  -73.87336     Private room   60.0               1                257   \n",
       "28651  -73.77050     Private room   50.0               1                341   \n",
       "29628  -73.77000     Private room   50.0               1                302   \n",
       "\n",
       "      last_review  reviews_per_month  calculated_host_listings_count  \\\n",
       "3      2019-07-05               4.64                               1   \n",
       "7      2019-06-24               3.47                               1   \n",
       "17     2019-07-01               2.12                               1   \n",
       "33     2019-07-01               2.37                               3   \n",
       "53     2019-06-29               2.82                               1   \n",
       "...           ...                ...                             ...   \n",
       "26977  2019-07-07              12.99                               1   \n",
       "27287  2019-07-06              19.75                               3   \n",
       "27369  2019-07-06              12.54                               6   \n",
       "28651  2019-07-08              17.82                               3   \n",
       "29628  2019-07-06              16.81                               3   \n",
       "\n",
       "       availability_365  \n",
       "3                   194  \n",
       "7                   220  \n",
       "17                   12  \n",
       "33                  359  \n",
       "53                  234  \n",
       "...                 ...  \n",
       "26977               307  \n",
       "27287                26  \n",
       "27369               351  \n",
       "28651                25  \n",
       "29628                26  \n",
       "\n",
       "[265 rows x 16 columns]"
      ]
     },
     "execution_count": 18,
     "metadata": {},
     "output_type": "execute_result"
    }
   ],
   "source": [
    "df[df['number_of_reviews'] >250]"
   ]
  },
  {
   "cell_type": "code",
   "execution_count": 19,
   "id": "205ddbc5",
   "metadata": {},
   "outputs": [],
   "source": [
    "df = df[df['number_of_reviews'] <250]\n",
    "# removing listing that have more than 250 reviews, since those property are a very rare case and including them might impact analysis."
   ]
  },
  {
   "cell_type": "code",
   "execution_count": 20,
   "id": "72205a2b",
   "metadata": {},
   "outputs": [
    {
     "data": {
      "text/plain": [
       "<AxesSubplot:xlabel='number_of_reviews', ylabel='Count'>"
      ]
     },
     "execution_count": 20,
     "metadata": {},
     "output_type": "execute_result"
    },
    {
     "data": {
      "image/png": "[encoded data removed]",
      "text/plain": [
       "<Figure size 432x288 with 1 Axes>"
      ]
     },
     "metadata": {
      "needs_background": "light"
     },
     "output_type": "display_data"
    }
   ],
   "source": [
    "sns.histplot(df['number_of_reviews'], bins=5, kde = True) # shows extreme values for 'number_of_reviews'"
   ]
  },
  {
   "cell_type": "code",
   "execution_count": 21,
   "id": "33cf5882",
   "metadata": {},
   "outputs": [
    {
     "data": {
      "text/plain": [
       "21.68375874378392"
      ]
     },
     "execution_count": 21,
     "metadata": {},
     "output_type": "execute_result"
    }
   ],
   "source": [
    "df['number_of_reviews'].mean()"
   ]
  },
  {
   "cell_type": "code",
   "execution_count": 22,
   "id": "ca3d2f7b",
   "metadata": {},
   "outputs": [
    {
     "data": {
      "text/plain": [
       "5.0"
      ]
     },
     "execution_count": 22,
     "metadata": {},
     "output_type": "execute_result"
    }
   ],
   "source": [
    "df['number_of_reviews'].median()"
   ]
  },
  {
   "cell_type": "code",
   "execution_count": 23,
   "id": "a8ed561d",
   "metadata": {},
   "outputs": [
    {
     "data": {
      "text/plain": [
       "249"
      ]
     },
     "execution_count": 23,
     "metadata": {},
     "output_type": "execute_result"
    }
   ],
   "source": [
    "df['number_of_reviews'].max()"
   ]
  },
  {
   "cell_type": "markdown",
   "id": "98e5b24f",
   "metadata": {},
   "source": [
    "### 4. Explore your data visually"
   ]
  },
  {
   "cell_type": "code",
   "execution_count": 24,
   "id": "05126936",
   "metadata": {},
   "outputs": [
    {
     "data": {
      "image/png": "[encoded data removed]",
      "text/plain": [
       "<Figure size 432x288 with 1 Axes>"
      ]
     },
     "metadata": {
      "needs_background": "light"
     },
     "output_type": "display_data"
    }
   ],
   "source": [
    "df.plot(x = 'number_of_reviews', y='price',style='o') # The style option creates a scatterplot; without it, we only have lines.\n",
    "plt.title('number_of_reviews vs Price ')  \n",
    "plt.xlabel('number_of_reviews')  \n",
    "plt.ylabel('price')  \n",
    "plt.show()"
   ]
  },
  {
   "cell_type": "markdown",
   "id": "b555fa46",
   "metadata": {},
   "source": [
    "### My hypothesis would be the higher the number of reviews the higher the price rent would be"
   ]
  },
  {
   "cell_type": "markdown",
   "id": "ea8efca6",
   "metadata": {},
   "source": [
    "### 6. Reshaping the variable"
   ]
  },
  {
   "cell_type": "code",
   "execution_count": 25,
   "id": "06067ad1",
   "metadata": {},
   "outputs": [],
   "source": [
    "# Reshape the variables into NumPy arrays and put them into separate objects.\n",
    "\n",
    "X = df['number_of_reviews'].values.reshape(-1,1)\n",
    "y = df['price'].values.reshape(-1,1)"
   ]
  },
  {
   "cell_type": "code",
   "execution_count": 26,
   "id": "a6ab76a5",
   "metadata": {},
   "outputs": [
    {
     "data": {
      "text/plain": [
       "array([[ 9],\n",
       "       [45],\n",
       "       [ 0],\n",
       "       ...,\n",
       "       [ 0],\n",
       "       [ 0],\n",
       "       [ 0]], dtype=int64)"
      ]
     },
     "execution_count": 26,
     "metadata": {},
     "output_type": "execute_result"
    }
   ],
   "source": [
    "X"
   ]
  },
  {
   "cell_type": "code",
   "execution_count": 27,
   "id": "a366fd49",
   "metadata": {},
   "outputs": [
    {
     "data": {
      "text/plain": [
       "array([[149.],\n",
       "       [225.],\n",
       "       [150.],\n",
       "       ...,\n",
       "       [115.],\n",
       "       [ 55.],\n",
       "       [ 90.]])"
      ]
     },
     "execution_count": 27,
     "metadata": {},
     "output_type": "execute_result"
    }
   ],
   "source": [
    "y"
   ]
  },
  {
   "cell_type": "markdown",
   "id": "11b95654",
   "metadata": {},
   "source": [
    "### 7. Split the data into two sets: a training set and a test set"
   ]
  },
  {
   "cell_type": "code",
   "execution_count": 28,
   "id": "f0236238",
   "metadata": {},
   "outputs": [],
   "source": [
    "# Split data into a training set and a test set.\n",
    "\n",
    "X_train, X_test, y_train, y_test = train_test_split(X, y, test_size=0.3, random_state=0)"
   ]
  },
  {
   "cell_type": "markdown",
   "id": "141f6b09",
   "metadata": {},
   "source": [
    "### 8. Run a linear regression on the data and run the training set and create prediction for y on the test set"
   ]
  },
  {
   "cell_type": "code",
   "execution_count": 29,
   "id": "d5777343",
   "metadata": {},
   "outputs": [],
   "source": [
    "# Create a regression object.\n",
    "\n",
    "regression = LinearRegression()  # This is the regression object, which will be fit onto the training set."
   ]
  },
  {
   "cell_type": "code",
   "execution_count": 30,
   "id": "613dae52",
   "metadata": {},
   "outputs": [
    {
     "data": {
      "text/plain": [
       "LinearRegression()"
      ]
     },
     "execution_count": 30,
     "metadata": {},
     "output_type": "execute_result"
    }
   ],
   "source": [
    "# Fit the regression object onto the training set.\n",
    "\n",
    "regression.fit(X_train, y_train)"
   ]
  },
  {
   "cell_type": "code",
   "execution_count": 31,
   "id": "e9a156d3",
   "metadata": {},
   "outputs": [],
   "source": [
    "# Predict the values of y using X.\n",
    "\n",
    "y_predicted = regression.predict(X_test)"
   ]
  },
  {
   "cell_type": "markdown",
   "id": "feb73343",
   "metadata": {},
   "source": [
    "### 9 and 10. Create a plot that shows the regression line on the test set and explanation"
   ]
  },
  {
   "cell_type": "code",
   "execution_count": 32,
   "id": "e8c05147",
   "metadata": {},
   "outputs": [
    {
     "data": {
      "image/png": "[encoded data removed]",
      "text/plain": [
       "<Figure size 432x288 with 1 Axes>"
      ]
     },
     "metadata": {
      "needs_background": "light"
     },
     "output_type": "display_data"
    }
   ],
   "source": [
    "# Create a plot that shows the regression line from the model on the test set.\n",
    "\n",
    "plot_test = plt\n",
    "plot_test.scatter(X_test, y_test, color='gray', s = 15)\n",
    "plot_test.plot(X_test, y_predicted, color='red', linewidth =3)\n",
    "plot_test.title('number_of_reviews vs Price (test Set)')\n",
    "plot_test.xlabel('number_of_reviews')\n",
    "plot_test.ylabel('Price')\n",
    "plot_test.show()"
   ]
  },
  {
   "cell_type": "markdown",
   "id": "425855a1",
   "metadata": {},
   "source": [
    "### The line doesn't appear to suit this model as you can see from the line above is that the diagram is slightly sloping down. Which mean that the airbnb listing would have a low price when they have more reviews. However, as you also can see from the scatter plot above that this is only partially true. In this graph show even some listing that have low or no review have their price lower than listing that have the highest number of reviews. So I would say that there isn't much correlation."
   ]
  },
  {
   "cell_type": "markdown",
   "id": "311d2e64",
   "metadata": {},
   "source": [
    "### 11. Check the model performance statistics—MSE and R2."
   ]
  },
  {
   "cell_type": "code",
   "execution_count": 33,
   "id": "e389c81b",
   "metadata": {},
   "outputs": [],
   "source": [
    "# Create objects that contain the model summary statistics.\n",
    "\n",
    "rmse = mean_squared_error(y_test, y_predicted) # This is the mean squared error\n",
    "r2 = r2_score(y_test, y_predicted) # This is the R2 score. "
   ]
  },
  {
   "cell_type": "code",
   "execution_count": 34,
   "id": "83248a8a",
   "metadata": {},
   "outputs": [
    {
     "name": "stdout",
     "output_type": "stream",
     "text": [
      "Slope: [[-0.17837526]]\n",
      "Mean squared error:  15248.31166453184\n",
      "R2 score:  0.003331259482449278\n"
     ]
    }
   ],
   "source": [
    "# Print the model summary statistics. This is where you evaluate the performance of the model.\n",
    "\n",
    "print('Slope:' ,regression.coef_)\n",
    "print('Mean squared error: ', rmse)\n",
    "print('R2 score: ', r2)"
   ]
  },
  {
   "cell_type": "code",
   "execution_count": 35,
   "id": "a40a221a",
   "metadata": {},
   "outputs": [
    {
     "data": {
      "text/plain": [
       "array([[140.44644497],\n",
       "       [146.51120378],\n",
       "       [146.8679543 ],\n",
       "       ...,\n",
       "       [143.65719963],\n",
       "       [109.94427562],\n",
       "       [139.19781815]])"
      ]
     },
     "execution_count": 35,
     "metadata": {},
     "output_type": "execute_result"
    }
   ],
   "source": [
    "y_predicted"
   ]
  },
  {
   "cell_type": "code",
   "execution_count": 36,
   "id": "8358e54c",
   "metadata": {},
   "outputs": [
    {
     "data": {
      "text/html": [
       "<div>\n",
       "<style scoped>\n",
       "    .dataframe tbody tr th:only-of-type {\n",
       "        vertical-align: middle;\n",
       "    }\n",
       "\n",
       "    .dataframe tbody tr th {\n",
       "        vertical-align: top;\n",
       "    }\n",
       "\n",
       "    .dataframe thead th {\n",
       "        text-align: right;\n",
       "    }\n",
       "</style>\n",
       "<table border=\"1\" class=\"dataframe\">\n",
       "  <thead>\n",
       "    <tr style=\"text-align: right;\">\n",
       "      <th></th>\n",
       "      <th>Actual</th>\n",
       "      <th>Predicted</th>\n",
       "    </tr>\n",
       "  </thead>\n",
       "  <tbody>\n",
       "    <tr>\n",
       "      <th>0</th>\n",
       "      <td>149.0</td>\n",
       "      <td>140.446445</td>\n",
       "    </tr>\n",
       "    <tr>\n",
       "      <th>1</th>\n",
       "      <td>30.0</td>\n",
       "      <td>146.511204</td>\n",
       "    </tr>\n",
       "    <tr>\n",
       "      <th>2</th>\n",
       "      <td>160.0</td>\n",
       "      <td>146.867954</td>\n",
       "    </tr>\n",
       "    <tr>\n",
       "      <th>3</th>\n",
       "      <td>36.0</td>\n",
       "      <td>146.867954</td>\n",
       "    </tr>\n",
       "    <tr>\n",
       "      <th>4</th>\n",
       "      <td>75.0</td>\n",
       "      <td>146.511204</td>\n",
       "    </tr>\n",
       "    <tr>\n",
       "      <th>5</th>\n",
       "      <td>120.0</td>\n",
       "      <td>146.867954</td>\n",
       "    </tr>\n",
       "    <tr>\n",
       "      <th>6</th>\n",
       "      <td>450.0</td>\n",
       "      <td>141.159946</td>\n",
       "    </tr>\n",
       "    <tr>\n",
       "      <th>7</th>\n",
       "      <td>70.0</td>\n",
       "      <td>146.867954</td>\n",
       "    </tr>\n",
       "    <tr>\n",
       "      <th>8</th>\n",
       "      <td>65.0</td>\n",
       "      <td>142.586948</td>\n",
       "    </tr>\n",
       "    <tr>\n",
       "      <th>9</th>\n",
       "      <td>83.0</td>\n",
       "      <td>146.689579</td>\n",
       "    </tr>\n",
       "    <tr>\n",
       "      <th>10</th>\n",
       "      <td>49.0</td>\n",
       "      <td>139.376193</td>\n",
       "    </tr>\n",
       "    <tr>\n",
       "      <th>11</th>\n",
       "      <td>35.0</td>\n",
       "      <td>146.511204</td>\n",
       "    </tr>\n",
       "    <tr>\n",
       "      <th>12</th>\n",
       "      <td>99.0</td>\n",
       "      <td>144.727451</td>\n",
       "    </tr>\n",
       "    <tr>\n",
       "      <th>13</th>\n",
       "      <td>260.0</td>\n",
       "      <td>146.511204</td>\n",
       "    </tr>\n",
       "    <tr>\n",
       "      <th>14</th>\n",
       "      <td>119.0</td>\n",
       "      <td>144.905826</td>\n",
       "    </tr>\n",
       "    <tr>\n",
       "      <th>15</th>\n",
       "      <td>65.0</td>\n",
       "      <td>143.300449</td>\n",
       "    </tr>\n",
       "    <tr>\n",
       "      <th>16</th>\n",
       "      <td>54.0</td>\n",
       "      <td>146.867954</td>\n",
       "    </tr>\n",
       "    <tr>\n",
       "      <th>17</th>\n",
       "      <td>125.0</td>\n",
       "      <td>145.084202</td>\n",
       "    </tr>\n",
       "    <tr>\n",
       "      <th>18</th>\n",
       "      <td>65.0</td>\n",
       "      <td>146.511204</td>\n",
       "    </tr>\n",
       "    <tr>\n",
       "      <th>19</th>\n",
       "      <td>85.0</td>\n",
       "      <td>146.511204</td>\n",
       "    </tr>\n",
       "    <tr>\n",
       "      <th>20</th>\n",
       "      <td>120.0</td>\n",
       "      <td>108.695649</td>\n",
       "    </tr>\n",
       "    <tr>\n",
       "      <th>21</th>\n",
       "      <td>35.0</td>\n",
       "      <td>146.689579</td>\n",
       "    </tr>\n",
       "    <tr>\n",
       "      <th>22</th>\n",
       "      <td>99.0</td>\n",
       "      <td>129.743929</td>\n",
       "    </tr>\n",
       "    <tr>\n",
       "      <th>23</th>\n",
       "      <td>65.0</td>\n",
       "      <td>145.084202</td>\n",
       "    </tr>\n",
       "    <tr>\n",
       "      <th>24</th>\n",
       "      <td>300.0</td>\n",
       "      <td>145.976078</td>\n",
       "    </tr>\n",
       "    <tr>\n",
       "      <th>25</th>\n",
       "      <td>40.0</td>\n",
       "      <td>145.619327</td>\n",
       "    </tr>\n",
       "    <tr>\n",
       "      <th>26</th>\n",
       "      <td>70.0</td>\n",
       "      <td>117.792787</td>\n",
       "    </tr>\n",
       "    <tr>\n",
       "      <th>27</th>\n",
       "      <td>120.0</td>\n",
       "      <td>146.689579</td>\n",
       "    </tr>\n",
       "    <tr>\n",
       "      <th>28</th>\n",
       "      <td>250.0</td>\n",
       "      <td>143.657200</td>\n",
       "    </tr>\n",
       "    <tr>\n",
       "      <th>29</th>\n",
       "      <td>80.0</td>\n",
       "      <td>145.084202</td>\n",
       "    </tr>\n",
       "  </tbody>\n",
       "</table>\n",
       "</div>"
      ],
      "text/plain": [
       "    Actual   Predicted\n",
       "0    149.0  140.446445\n",
       "1     30.0  146.511204\n",
       "2    160.0  146.867954\n",
       "3     36.0  146.867954\n",
       "4     75.0  146.511204\n",
       "5    120.0  146.867954\n",
       "6    450.0  141.159946\n",
       "7     70.0  146.867954\n",
       "8     65.0  142.586948\n",
       "9     83.0  146.689579\n",
       "10    49.0  139.376193\n",
       "11    35.0  146.511204\n",
       "12    99.0  144.727451\n",
       "13   260.0  146.511204\n",
       "14   119.0  144.905826\n",
       "15    65.0  143.300449\n",
       "16    54.0  146.867954\n",
       "17   125.0  145.084202\n",
       "18    65.0  146.511204\n",
       "19    85.0  146.511204\n",
       "20   120.0  108.695649\n",
       "21    35.0  146.689579\n",
       "22    99.0  129.743929\n",
       "23    65.0  145.084202\n",
       "24   300.0  145.976078\n",
       "25    40.0  145.619327\n",
       "26    70.0  117.792787\n",
       "27   120.0  146.689579\n",
       "28   250.0  143.657200\n",
       "29    80.0  145.084202"
      ]
     },
     "execution_count": 36,
     "metadata": {},
     "output_type": "execute_result"
    }
   ],
   "source": [
    "# Create a dataframe comparing the actual and predicted values of y.\n",
    "\n",
    "data = pd.DataFrame({'Actual': y_test.flatten(), 'Predicted': y_predicted.flatten()})\n",
    "data.head(30)"
   ]
  },
  {
   "cell_type": "markdown",
   "id": "7adaf81c",
   "metadata": {},
   "source": [
    "### \n",
    "From the slope we can see that there is a negative relationship between number of reiviews and price. Hence, the downward sloping. Which in this case\n",
    "the price is lower when the number of reviews increase. However, they don't have strong relationship between this variables. This can also be seen \n",
    "on the mean squared error where is quite a large number which also mean that regression may not be the best model to represent this data and can't currately predict the influence of the number of reivews and the listing price. \n",
    "R2 Square did also further prove my point where regression method is not fit for purpose. \n",
    "\n",
    "One last thing we did is to check the values manually and comparing the actual and predicted values. The result of the actual and predicted is far off. \n",
    "Again this further proves that regression line is not a correct method to use in this case. \n",
    "\n",
    "\n",
    "A potential bias that I could find the sample bias where the data that was released by Airbnb isn't all the listing that airbnb had on New york listing. Due to this the result could be change. "
   ]
  },
  {
   "cell_type": "code",
   "execution_count": null,
   "id": "4e86db95",
   "metadata": {},
   "outputs": [],
   "source": []
  }
 ],
 "metadata": {
  "kernelspec": {
   "display_name": "Python 3",
   "language": "python",
   "name": "python3"
  },
  "language_info": {
   "codemirror_mode": {
    "name": "ipython",
    "version": 3
   },
   "file_extension": ".py",
   "mimetype": "text/x-python",
   "name": "python",
   "nbconvert_exporter": "python",
   "pygments_lexer": "ipython3",
   "version": "3.8.8"
  }
 },
 "nbformat": 4,
 "nbformat_minor": 5
}
